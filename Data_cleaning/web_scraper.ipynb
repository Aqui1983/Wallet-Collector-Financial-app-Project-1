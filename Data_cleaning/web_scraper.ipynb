{
 "cells": [
  {
   "cell_type": "code",
   "execution_count": 29,
   "metadata": {},
   "outputs": [],
   "source": [
    "import streamlit as st\n",
    "from PIL import Image\n",
    "import pandas as pd\n",
    "import base64\n",
    "import matplotlib.pyplot as plt\n",
    "from bs4 import BeautifulSoup\n",
    "import requests\n",
    "import json\n",
    "import time\n",
    "\n",
    "\n",
    "#Page layout, dividing into 3 columns\n",
    "#col1 = st.sidebar\n",
    "#col2, col3 = st.columns((2,1))\n",
    "\n",
    "#@st.cache\n",
    "def scrape_data():\n",
    "    cmc = requests.get('https://www.coinmarketcap.com')\n",
    "    soup = BeautifulSoup(cmc.content, 'html.parser')\n",
    "\n",
    "    data = soup.find('script', id='__NEXT_DATA__', type='application/json')\n",
    "    coins = {}\n",
    "    coin_data = json.loads(data.contents[0])\n",
    "    listings = json.loads(coin_data['props']['initialState'])['cryptocurrency']['listingLatest']['data']\n",
    "\n",
    "    for i in listings[1:]:\n",
    "        coins[i[-4]] = i[-4]\n",
    "    \n",
    "    coin_name = []\n",
    "    coin_symbol = []\n",
    "    market_cap = []\n",
    "    percent_change_1h= []\n",
    "    percent_change_24h = []\n",
    "    percent_change_7d = []\n",
    "    price = []\n",
    "    volume_24h = []\n",
    "    #for i in listings[1:]:\n",
    "        #coin_name.append(i[14])\n",
    "        #coin_symbol.append(i[-4])\n",
    "        #price.append(i[64])\n",
    "        #percent_change_1h.append(i[58])\n",
    "        #percent_change_24h.append(i[59])\n",
    "        #percent_change_7d.append(i[62])\n",
    "        #market_cap.append(i[55])\n",
    "        #volume_24h.append(i[67])\n",
    "    df = pd.DataFrame(columns=['coin_name', 'coin_symbol', 'market_cap', 'percent_change_1h', 'percent_change_24h', 'percent_change_7d', 'price', 'volume_24h'])\n",
    "    df['coin_name'] = coin_name\n",
    "    df['coin_symbol'] = coin_symbol\n",
    "    df['price'] = price\n",
    "    df['percent_change_1h'] = percent_change_1h\n",
    "    df['percent_change_24h'] = percent_change_24h\n",
    "    df['percent_change_7d'] = percent_change_7d\n",
    "    df['market_cap'] = market_cap\n",
    "    df['volume_24h'] = volume_24h\n",
    "    return df\n",
    "\n",
    "\n",
    "df = scrape_data()\n",
    "\n",
    "\n",
    "\n",
    "\n"
   ]
  },
  {
   "cell_type": "code",
   "execution_count": 32,
   "metadata": {},
   "outputs": [
    {
     "data": {
      "text/html": [
       "<div>\n",
       "<style scoped>\n",
       "    .dataframe tbody tr th:only-of-type {\n",
       "        vertical-align: middle;\n",
       "    }\n",
       "\n",
       "    .dataframe tbody tr th {\n",
       "        vertical-align: top;\n",
       "    }\n",
       "\n",
       "    .dataframe thead th {\n",
       "        text-align: right;\n",
       "    }\n",
       "</style>\n",
       "<table border=\"1\" class=\"dataframe\">\n",
       "  <thead>\n",
       "    <tr style=\"text-align: right;\">\n",
       "      <th></th>\n",
       "      <th>coin_name</th>\n",
       "      <th>coin_symbol</th>\n",
       "      <th>market_cap</th>\n",
       "      <th>percent_change_1h</th>\n",
       "      <th>percent_change_24h</th>\n",
       "      <th>percent_change_7d</th>\n",
       "      <th>price</th>\n",
       "      <th>volume_24h</th>\n",
       "    </tr>\n",
       "  </thead>\n",
       "  <tbody>\n",
       "  </tbody>\n",
       "</table>\n",
       "</div>"
      ],
      "text/plain": [
       "Empty DataFrame\n",
       "Columns: [coin_name, coin_symbol, market_cap, percent_change_1h, percent_change_24h, percent_change_7d, price, volume_24h]\n",
       "Index: []"
      ]
     },
     "execution_count": 32,
     "metadata": {},
     "output_type": "execute_result"
    }
   ],
   "source": [
    "\n"
   ]
  },
  {
   "cell_type": "code",
   "execution_count": null,
   "metadata": {},
   "outputs": [],
   "source": [
    "# Sidebar crptocurrency selector\n",
    "\n",
    "sorted_coin = sorted(df['coin_symbol'])\n",
    "selected_coin = col1.multiselect('Crypotocurrency', sorted_coin, sorted_coin)\n",
    "\n",
    "# Filtering the data\n",
    "df_selected_coin = df[ (df['coin_symbol'].isin(selected_coin))]\n",
    "\n",
    "# Sidebar amount of coins to display\n",
    "num_coin = col1.slider('Display Top N Coins', 1, 100, 100)\n",
    "df_coins = df_selected_coin[:num_coin]"
   ]
  },
  {
   "cell_type": "code",
   "execution_count": null,
   "metadata": {},
   "outputs": [],
   "source": [
    "# Sidebar percent changetimeframe selector\n",
    "percent_timeframe = col1.selectbox('Percent change time frame', \n",
    "                                    ['7d', '24h', '1h'])\n",
    "percent_dict = {'7d':'percentChange7d','24h':'percentChange24h','1h':'percentChange1h'}\n",
    "selected_percent_timeframe = percent_dict[percent_timeframe]"
   ]
  },
  {
   "cell_type": "code",
   "execution_count": null,
   "metadata": {},
   "outputs": [],
   "source": [
    "# Sidebar Sort value selector Y/N\n",
    "sort_values = col1.selectbox('Sort values?', ['Yes','No'])\n",
    "\n",
    "col2.subheader('Price Data of Selected Cryptocurrency')\n",
    "col2.write('Data Dimension: ' + str(df_selected_coin.shape[0]) + ' rows and ' + str(df_selected_coin.shape[1]) + ' columns.')\n",
    "\n",
    "col2.dataframe(df_coins)"
   ]
  },
  {
   "cell_type": "code",
   "execution_count": null,
   "metadata": {},
   "outputs": [],
   "source": [
    "# Download data to CSV\n",
    "def filedownload(df):\n",
    "    csv = df.to_csv(index=False)\n",
    "    b64 = base64.b64encode(csv.encode()).decode()\n",
    "    href = f'<a href=\"data:file/csv;base64,{b64}\" download=\"crypto.csv\">Download CSV File</a>'\n",
    "    return href\n",
    "\n",
    "col2.markdown(filedownload(df_selected_coin), unsafe_allow_html=True)"
   ]
  },
  {
   "cell_type": "code",
   "execution_count": null,
   "metadata": {},
   "outputs": [],
   "source": [
    "#Bar plot for percentage change in price\n",
    "col2.subheader('Table of % Price Change')\n",
    "df_change = pd.concat([df_coins.coin_symbol, df_coins.percent_change_1h, df_coins.percent_change_24h, df_coins.percent_change_7d], axis=1)\n",
    "df_change = df_change.set_index('coin_symbol')\n",
    "df_change['positive_percent_change_1h'] = df_change['percent_change_1h'] > 0\n",
    "df_change['positive_percent_change_24h'] = df_change['percent_change_24h'] > 0\n",
    "df_change['positive_percent_change_7d'] = df_change['percent_change_7d'] > 0\n",
    "col2.dataframe(df_change)"
   ]
  },
  {
   "cell_type": "code",
   "execution_count": null,
   "metadata": {},
   "outputs": [],
   "source": [
    "# If statements for Bar plot time frame\n",
    "col3.subheader('Barplot of % Price Change')\n",
    "\n",
    "if percent_timeframe =='7d':\n",
    "    if sort_values =='Yes':\n",
    "        df_change =df_change.sort_values(by=['percent_change_7d'])\n",
    "    col3.write('*7 days period*')\n",
    "    plt.figure(figsize=(5,25))\n",
    "    plt.subplots_adjust(top=1, bottom=0)\n",
    "    df_change['percent_change_7d'].plot(kind='barh', color=df_change.positive_percent_change_7d.map({True: 'g', False: 'r'}))\n",
    "    col3.pyplot(plt)\n",
    "elif percent_timeframe =='24h':\n",
    "    if sort_values =='Yes':\n",
    "        df_change =df_change.sort_values(by=['percent_change_24h'])\n",
    "    col3.write('*24 hour period*')\n",
    "    plt.figure(figsize=(5,25))\n",
    "    plt.subplots_adjust(top=1, bottom=0)\n",
    "    df_change['percent_change_24h'].plot(kind='barh', color=df_change.positive_percent_change_24h.map({True: 'g', False: 'r'}))\n",
    "    col3.pyplot(plt)\n",
    "else:\n",
    "    if sort_values =='Yes':\n",
    "        df_change =df_change.sort_values(by=['percent_change_1h'])\n",
    "    col3.write('*1 hour period')\n",
    "    plt.figure(figsize=(5,25))\n",
    "    plt.subplots_adjust(top=1, bottom=0)\n",
    "    df_change['percent_change_1h'].plot(kind='barh', color=df_change.positive_percent_change_1h.map({True: 'g', False: 'r'}))\n",
    "    col3.pyplot(plt)"
   ]
  }
 ],
 "metadata": {
  "kernelspec": {
   "display_name": "Python 3.7.13 ('MLearning')",
   "language": "python",
   "name": "python3"
  },
  "language_info": {
   "codemirror_mode": {
    "name": "ipython",
    "version": 3
   },
   "file_extension": ".py",
   "mimetype": "text/x-python",
   "name": "python",
   "nbconvert_exporter": "python",
   "pygments_lexer": "ipython3",
   "version": "3.7.13"
  },
  "orig_nbformat": 4,
  "vscode": {
   "interpreter": {
    "hash": "b560250d69abd6f963a84b4379105e9a010286fdaa68e26c84ef4b755e7a0a6e"
   }
  }
 },
 "nbformat": 4,
 "nbformat_minor": 2
}
