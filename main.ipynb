{
 "cells": [
  {
   "cell_type": "code",
   "execution_count": null,
   "metadata": {},
   "outputs": [],
   "source": [
    "import yfinance as yf\n",
    "import pandas as pd\n",
    "import numpy as np\n",
    "import streamlit as st\n",
    "from PIL import Image\n",
    "from urllib.request import urlopen"
   ]
  },
  {
   "cell_type": "code",
   "execution_count": null,
   "metadata": {},
   "outputs": [],
   "source": [
    "#titles\n",
    "st.title(\"Crypto Currency Daily Prices\")\n",
    "st.header(\"Main Dashboard\")\n",
    "st.subheader(\"you can add more crypto in code\")\n",
    "\n",
    "\n"
   ]
  },
  {
   "cell_type": "code",
   "execution_count": null,
   "metadata": {},
   "outputs": [],
   "source": [
    "Bitcoin = 'BTC-USD'\n",
    "Ethereum = 'ETH-USD'\n",
    "Ripple = 'XRP-USD'\n",
    "Bitcoincash = 'BCH-USD'\n",
    "Cardano = 'ADA-USD'"
   ]
  },
  {
   "cell_type": "code",
   "execution_count": null,
   "metadata": {},
   "outputs": [],
   "source": [
    "# Download Stock Data\n",
    "\n",
    "st.write(\"# Download Stock Data\")\n",
    "\n",
    "BTC = yf.download(Bitcoin, period=\"max\", interval=\"1d\")\n",
    "ETH = yf.download(Ethereum, period=\"max\", interval=\"1d\")\n",
    "XRP = yf.download(Ripple, period=\"max\", interval=\"1d\")\n",
    "BCH = yf.download(Bitcoincash, period=\"max\", interval=\"1d\")\n",
    "ADA = yf.download(Cardano, period=\"max\", interval=\"1d\")\n",
    "\n",
    "BTC\n",
    "ETH\n",
    "XRP\n",
    "BCH\n",
    "ADA"
   ]
  },
  {
   "cell_type": "code",
   "execution_count": null,
   "metadata": {},
   "outputs": [],
   "source": [
    "# Ticker Data\n",
    "\n",
    "BTC_Data =  yf.Ticker(Bitcoin)\n",
    "ETH_Data =  yf.Ticker(Ethereum)\n",
    "XRP_Data =  yf.Ticker(Ripple)\n",
    "BCH_Data =  yf.Ticker(Bitcoincash)\n",
    "ADA_Data = yf.Ticker(Cardano)\n"
   ]
  },
  {
   "cell_type": "code",
   "execution_count": null,
   "metadata": {},
   "outputs": [],
   "source": [
    "# Stock - Info\n",
    "\n",
    "st.write(\"# Stock - Info\")\n",
    "btc_info = BTC_Data.info\n",
    "eth_info = ETH_Data.info\n",
    "xrp_info = XRP_Data.info\n",
    "bch_info = BCH_Data.info\n",
    "ada_info = ADA_Data.info\n",
    "\n",
    "btc_info.keys()\n",
    "eth_info.keys()\n",
    "xrp_info.keys()\n",
    "bch_info.keys()\n",
    "ada_info.keys()"
   ]
  },
  {
   "cell_type": "code",
   "execution_count": null,
   "metadata": {},
   "outputs": [],
   "source": [
    "# Stock - Histories\n",
    "\n",
    "st.write(\"# Stock - History\")\n",
    "btc_hist = BTC_Data.history(period=\"max\")\n",
    "eth_hist = ETH_Data.history(period=\"max\")\n",
    "xrp_hist = XRP_Data.history(period=\"max\")\n",
    "bch_hist = BCH_Data.history(period=\"max\")\n",
    "ada_hist = ADA_Data.history(period=\"max\")\n",
    "\n",
    "\n",
    "btc_hist\n",
    "eth_hist\n",
    "xrp_hist\n",
    "bch_hist\n",
    "ada_hist"
   ]
  }
 ],
 "metadata": {
  "language_info": {
   "name": "python"
  },
  "orig_nbformat": 4
 },
 "nbformat": 4,
 "nbformat_minor": 2
}
