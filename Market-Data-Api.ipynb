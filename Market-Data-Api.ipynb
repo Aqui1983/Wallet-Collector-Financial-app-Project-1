{
 "cells": [
  {
   "cell_type": "code",
   "execution_count": null,
   "metadata": {},
   "outputs": [],
   "source": [
    "import yfinance as yf\n",
    "import pandas as pd\n",
    "import streamlit as st\n",
    "from PIL import Image\n",
    "from urllib.request import urlopen"
   ]
  },
  {
   "cell_type": "code",
   "execution_count": null,
   "metadata": {},
   "outputs": [],
   "source": [
    "#titles\n",
    "\n",
    "st.title(\"Crypto Currency Daily Prices\")\n",
    "st.header(\"Main Dashboard\")\n",
    "st.subheader(\"you can add more crypto in code\")\n",
    "\n",
    "Bitcoin = 'BTC-USD'\n",
    "Ethereum = 'ETH-USD'\n",
    "Ripple = 'XRP-USD'\n",
    "Bitcoincash = 'BCH-USD'\n",
    "Cardano = 'ADA-USD'\n",
    "\n",
    "\n",
    "/Users/marcleipold/Desktop/Bootcamp/Project-1-Repo-AQML/Market Data Api .ipynb"
   ]
  },
  {
   "cell_type": "code",
   "execution_count": null,
   "metadata": {},
   "outputs": [],
   "source": [
    "#access to Data\n",
    "\n",
    "BTC_Data =  yf.Ticker(Bitcoin)\n",
    "ETH_Data =  yf.Ticker(Ethereum)\n",
    "XRP_Data =  yf.Ticker(Ripple)\n",
    "BCH_Data =  yf.Ticker(Bitcoincash)\n",
    "ADA_Data = yf.Ticker(Cardano)"
   ]
  },
  {
   "cell_type": "code",
   "execution_count": null,
   "metadata": {},
   "outputs": [],
   "source": [
    "BTC_Data =  yf.Ticker(Bitcoin)\n",
    "ETH_Data =  yf.Ticker(Ethereum)\n",
    "XRP_Data =  yf.Ticker(Ripple)\n",
    "BCH_Data =  yf.Ticker(Bitcoincash)\n",
    "ADA_Data = yf.Ticker(Cardano)"
   ]
  },
  {
   "cell_type": "code",
   "execution_count": null,
   "metadata": {},
   "outputs": [],
   "source": []
  },
  {
   "cell_type": "code",
   "execution_count": null,
   "metadata": {},
   "outputs": [],
   "source": [
    "BTC_Data"
   ]
  },
  {
   "cell_type": "code",
   "execution_count": null,
   "metadata": {},
   "outputs": [],
   "source": [
    "BTCHis = BTC_Data.history(period=\"max\")\n",
    "ETHHis = ETH_Data.history(period=\"max\")\n",
    "XRPHis = XRP_Data.history(period=\"max\")\n",
    "BCHHis = BCH_Data.history(period=\"max\")\n",
    "ADAHis = ADA_Data.history(period=\"max\")"
   ]
  },
  {
   "cell_type": "code",
   "execution_count": null,
   "metadata": {},
   "outputs": [],
   "source": [
    "BTCHis.head()"
   ]
  },
  {
   "cell_type": "code",
   "execution_count": null,
   "metadata": {},
   "outputs": [],
   "source": [
    "BTC = yf.download(Bitcoin, period=\"max\")\n",
    "ETH = yf.download(Ethereum, period=\"max\")\n",
    "XRP = yf.download(Ripple, period=\"max\")\n",
    "BCH = yf.download(Bitcoincash, period=\"max\")\n",
    "ADA = yf.download(Cardano, period=\"max\")"
   ]
  },
  {
   "cell_type": "code",
   "execution_count": null,
   "metadata": {},
   "outputs": [],
   "source": [
    "BTC.head()"
   ]
  },
  {
   "cell_type": "code",
   "execution_count": null,
   "metadata": {},
   "outputs": [],
   "source": [
    "st.write(\"BITCOIN ($)\")\n",
    "imageBTC = Image.open(urlopen('https://s2.coinmarketcap.com/static/img/coins/64x64/1.png'))\n",
    "\n",
    "# Display Image\n",
    "\n",
    "st.image(imageBTC)\n",
    "  \n",
    "# Display dataframe\n",
    " \n",
    "st.table(BTC)\n",
    " \n",
    "st.bar_chart(BTCHis.Close)"
   ]
  },
  {
   "cell_type": "code",
   "execution_count": null,
   "metadata": {},
   "outputs": [],
   "source": [
    "BTC_info = BTC_Data.info\n",
    "\n",
    "BTC_info.keys()\n"
   ]
  },
  {
   "cell_type": "code",
   "execution_count": null,
   "metadata": {},
   "outputs": [],
   "source": []
  },
  {
   "cell_type": "code",
   "execution_count": null,
   "metadata": {},
   "outputs": [],
   "source": [
    "BTCHis"
   ]
  }
 ],
 "metadata": {
  "kernelspec": {
   "display_name": "Python 3.9.13 ('base')",
   "language": "python",
   "name": "python3"
  },
  "language_info": {
   "codemirror_mode": {
    "name": "ipython",
    "version": 3
   },
   "file_extension": ".py",
   "mimetype": "text/x-python",
   "name": "python",
   "nbconvert_exporter": "python",
   "pygments_lexer": "ipython3",
   "version": "3.9.13"
  },
  "orig_nbformat": 4,
  "vscode": {
   "interpreter": {
    "hash": "be55e39c3a85c259e1c419c161d9f436eb33a742600184e6885d07c26877f272"
   }
  }
 },
 "nbformat": 4,
 "nbformat_minor": 2
}
